{
 "cells": [
  {
   "cell_type": "code",
   "execution_count": null,
   "metadata": {},
   "outputs": [],
   "source": [
    "from eclib.elgamal import *"
   ]
  },
  {
   "cell_type": "code",
   "execution_count": null,
   "metadata": {},
   "outputs": [],
   "source": [
    "key_length = 20\n",
    "params, pk, sk = keygen(key_length)\n",
    "\n",
    "print('ElGamal cryptosystem:')\n",
    "print(f'\\u03BB = {key_length}')\n",
    "print(f'p = {params.p}')\n",
    "print(f'q = {params.q}')\n",
    "print(f'g = {params.g}')\n",
    "print(f'h = {pk}')\n",
    "print(f's = {sk}')"
   ]
  },
  {
   "cell_type": "code",
   "execution_count": null,
   "metadata": {},
   "outputs": [],
   "source": [
    "delta = 0.01\n",
    "x1 = 1.23\n",
    "m1 = encode(params, x1, delta)\n",
    "c1 = encrypt(params, pk, m1)\n",
    "n1 = decrypt(params, sk, c1)\n",
    "y1 = decode(params, n1, delta)\n",
    "\n",
    "print(f'x1 = {x1}')\n",
    "print(f'm1 = Ecd(x1) = {m1}')\n",
    "print(f'c1 = Enc(m1) = {c1}')\n",
    "print(f'n1 = Dec(c1) = {n1}')\n",
    "print(f'y1 = Dcd(n1) = {y1}')"
   ]
  },
  {
   "cell_type": "code",
   "execution_count": null,
   "metadata": {},
   "outputs": [],
   "source": [
    "x2 = -4.56\n",
    "c2 = enc(params, pk, x2, delta)\n",
    "y2 = dec(params, sk, c2, delta)\n",
    "\n",
    "print(f'x2 = {x2}')\n",
    "print(f'c2 = Enc(Ecd(x2)) = {c2}')\n",
    "print(f'y2 = Dcd(Dec(c2)) = {y2}')"
   ]
  },
  {
   "cell_type": "code",
   "execution_count": null,
   "metadata": {},
   "outputs": [],
   "source": [
    "x3 = x1 * x2\n",
    "c3 = mult(params, c1, c2)\n",
    "y3 = dec(params, sk, c3, delta ** 2)\n",
    "\n",
    "print(f'x3 = x1 * x2 = {x3}')\n",
    "print(f'c3 = Mult(c1, c2) = {c3}')\n",
    "print(f'y3 = Dcd(Dec(c3)) = {y3}')"
   ]
  }
 ],
 "metadata": {
  "kernelspec": {
   "display_name": "VARX_OLS-sCSNinRR",
   "language": "python",
   "name": "python3"
  },
  "language_info": {
   "codemirror_mode": {
    "name": "ipython",
    "version": 3
   },
   "file_extension": ".py",
   "mimetype": "text/x-python",
   "name": "python",
   "nbconvert_exporter": "python",
   "pygments_lexer": "ipython3",
   "version": "3.9.13 (main, Aug 11 2022, 14:05:15) \n[Clang 13.1.6 (clang-1316.0.21.2.5)]"
  },
  "orig_nbformat": 4,
  "vscode": {
   "interpreter": {
    "hash": "497b7ed7a0cb873aadba58ed60e096fc01a3b860d9661c0cdbc6ca783a8c3dcb"
   }
  }
 },
 "nbformat": 4,
 "nbformat_minor": 2
}
