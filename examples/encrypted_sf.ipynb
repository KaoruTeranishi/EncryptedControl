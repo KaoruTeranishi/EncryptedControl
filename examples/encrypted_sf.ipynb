{
 "cells": [
  {
   "cell_type": "code",
   "execution_count": null,
   "metadata": {},
   "outputs": [],
   "source": [
    "import eclib.elgamal as elgamal\n",
    "from eclib.colors import *\n",
    "import eclib.figsetup\n",
    "import numpy as np\n",
    "import numpy.linalg as la\n",
    "from control.matlab import *\n",
    "import matplotlib.pyplot as plt"
   ]
  },
  {
   "cell_type": "code",
   "execution_count": null,
   "metadata": {},
   "outputs": [],
   "source": [
    "# sampling time\n",
    "Ts = 10e-3\n",
    "\n",
    "# simulation setting\n",
    "simulation_time = 10\n",
    "t = np.linspace(0, simulation_time - Ts, int(simulation_time / Ts))"
   ]
  },
  {
   "cell_type": "code",
   "execution_count": null,
   "metadata": {},
   "outputs": [],
   "source": [
    "# plant (continuous time)\n",
    "A = np.array([[1, -1],\n",
    "              [0,  2]])\n",
    "B = np.array([[0],\n",
    "              [1]])\n",
    "C = np.array([[1, 0],\n",
    "              [0, 1]])\n",
    "D = np.array([[0],\n",
    "              [0]])\n",
    "\n",
    "# plant (discrete time)\n",
    "sys = c2d(ss(A, B, C, D), Ts)\n",
    "A = sys.A\n",
    "B = sys.B\n",
    "C = sys.C\n",
    "D = sys.D\n",
    "\n",
    "# dimension\n",
    "n = A.shape[0]\n",
    "m = B.shape[1]\n",
    "l = C.shape[0]"
   ]
  },
  {
   "cell_type": "code",
   "execution_count": null,
   "metadata": {},
   "outputs": [],
   "source": [
    "# controller\n",
    "Q = np.diag(np.ones(n))\n",
    "R = np.diag(np.ones(m))\n",
    "X, _, _ = dare(A, B, Q, R)\n",
    "F = -la.inv(B.T @ X @ B + R) @ (B.T @ X @ A)"
   ]
  },
  {
   "cell_type": "code",
   "execution_count": null,
   "metadata": {},
   "outputs": [],
   "source": [
    "# cryptosystem\n",
    "key_length = 256\n",
    "params, pk, sk = elgamal.keygen(key_length)"
   ]
  },
  {
   "cell_type": "code",
   "execution_count": null,
   "metadata": {},
   "outputs": [],
   "source": [
    "# scaling parameter\n",
    "delta = 0.01"
   ]
  },
  {
   "cell_type": "code",
   "execution_count": null,
   "metadata": {},
   "outputs": [],
   "source": [
    "# controller encryption\n",
    "F_enc = elgamal.enc(params, pk, F, delta)"
   ]
  },
  {
   "cell_type": "code",
   "execution_count": null,
   "metadata": {},
   "outputs": [],
   "source": [
    "# state\n",
    "x = 50 * np.ones([len(t) + 1, n])\n",
    "x_ = 50 * np.ones([len(t) + 1, n])\n",
    "x_enc = [[[0, 0] for j in range(n)] for i in range(len(t))]\n",
    "\n",
    "# input\n",
    "u = np.zeros([len(t), m])\n",
    "u_ = np.zeros([len(t), m])\n",
    "u_enc = [[[[0, 0] for k in range(n)] for j in range(m)] for i in range(len(t))]"
   ]
  },
  {
   "cell_type": "code",
   "execution_count": null,
   "metadata": {},
   "outputs": [],
   "source": [
    "# simulation w/o encryption\n",
    "for k in range(len(t)):\n",
    "    # controller\n",
    "    u[k] = F @ x[k]\n",
    "    # plant update\n",
    "    x[k+1] = A @ x[k] + B @ u[k]"
   ]
  },
  {
   "cell_type": "code",
   "execution_count": null,
   "metadata": {},
   "outputs": [],
   "source": [
    "# simulation w/ encryption\n",
    "for k in range(len(t)):\n",
    "    # state encryption\n",
    "    x_enc[k] = elgamal.enc(params, pk, x_[k], delta)\n",
    "    # encrypted controller\n",
    "    u_enc[k] = elgamal.mult(params, F_enc, x_enc[k])\n",
    "    # input decryption\n",
    "    u_[k] = elgamal.dec_add(params, sk, u_enc[k], delta ** 2)\n",
    "    # plant update\n",
    "    x_[k+1] = A @ x_[k] + B @ u_[k]"
   ]
  },
  {
   "cell_type": "code",
   "execution_count": null,
   "metadata": {},
   "outputs": [],
   "source": [
    "# figure\n",
    "plt.figure()\n",
    "plt.plot(t, u, linestyle='-', color=gray, linewidth=3.0, label='unencrypted')\n",
    "plt.plot(t, u_, linestyle='-', color=blue, linewidth=1.0, label='encrypted')\n",
    "plt.plot(t, np.zeros(len(t)), linestyle='--', color=black, linewidth=0.5)\n",
    "plt.xlabel('Time (s)')\n",
    "plt.ylabel(r'$u$')\n",
    "plt.xlim(0, simulation_time)\n",
    "plt.legend(loc='lower right')\n",
    "# plt.savefig('./fig/enc_sf_input.eps', bbox_inches='tight', pad_inches=0.05, transparent=True)\n",
    "\n",
    "plt.figure()\n",
    "plt.plot(t, x[0:-1,0], linestyle='-', color=gray, linewidth=3.0, label='unencrypted')\n",
    "plt.plot(t, x[0:-1,1], linestyle='-', color=gray, linewidth=3.0)\n",
    "plt.plot(t, x_[0:-1,0], linestyle='-', color=blue, linewidth=1.0, label='encrypted')\n",
    "plt.plot(t, x_[0:-1,1], linestyle='-', color=blue, linewidth=1.0)\n",
    "plt.plot(t, np.zeros(len(t)), linestyle='--', color=black, linewidth=0.5)\n",
    "plt.xlabel('Time (s)')\n",
    "plt.ylabel(r'$x$')\n",
    "plt.xlim(0, simulation_time)\n",
    "plt.legend(loc='upper right')\n",
    "# plt.savefig('./fig/enc_sf_state.eps', bbox_inches='tight', pad_inches=0.05, transparent=True)\n",
    "\n",
    "fig = plt.figure()\n",
    "ax1 = fig.add_subplot(2, 1, 1)\n",
    "ax1.tick_params(left=False, labelbottom=False, labelleft=False)\n",
    "ax1.plot(t, [a[0][0][0] for a in u_enc], linestyle='-', color=blue, linewidth=1.0)\n",
    "plt.ylabel(r'$c_{1}$')\n",
    "plt.xlim(0, simulation_time)\n",
    "ax2 = fig.add_subplot(2, 1, 2)\n",
    "ax2.tick_params(left=False, labelleft=False)\n",
    "ax2.plot(t, [a[0][0][1] for a in u_enc], linestyle='-', color=blue, linewidth=1.0)\n",
    "plt.xlabel('Time (s)')\n",
    "plt.ylabel(r'$c_{2}$')\n",
    "plt.xlim(0, simulation_time)\n",
    "fig.supylabel(r'$\\mathsf{Enc}(\\Psi_{11})$', fontsize=10)\n",
    "# plt.savefig('./fig/enc_sf_psi_11.eps', bbox_inches='tight', pad_inches=0.05, transparent=True)\n",
    "\n",
    "fig = plt.figure()\n",
    "ax1 = fig.add_subplot(2, 1, 1)\n",
    "ax1.tick_params(left=False, labelbottom=False, labelleft=False)\n",
    "ax1.plot(t, [a[0][1][0] for a in u_enc], linestyle='-', color=blue, linewidth=1.0)\n",
    "plt.ylabel(r'$c_{1}$')\n",
    "plt.xlim(0, simulation_time)\n",
    "ax2 = fig.add_subplot(2, 1, 2)\n",
    "ax2.tick_params(left=False, labelleft=False)\n",
    "ax2.plot(t, [a[0][1][1] for a in u_enc], linestyle='-', color=blue, linewidth=1.0)\n",
    "plt.xlabel('Time (s)')\n",
    "plt.ylabel(r'$c_{2}$')\n",
    "plt.xlim(0, simulation_time)\n",
    "fig.supylabel(r'$\\mathsf{Enc}(\\Psi_{12})$', fontsize=10)\n",
    "# plt.savefig('./fig/enc_sf_psi_12.eps', bbox_inches='tight', pad_inches=0.05, transparent=True)\n",
    "\n",
    "fig = plt.figure()\n",
    "ax1 = fig.add_subplot(2, 1, 1)\n",
    "ax1.tick_params(left=False, labelbottom=False, labelleft=False)\n",
    "ax1.plot(t, [a[0][0] for a in x_enc], linestyle='-', color=blue, linewidth=1.0)\n",
    "plt.ylabel(r'$c_{1}$')\n",
    "plt.xlim(0, simulation_time)\n",
    "ax2 = fig.add_subplot(2, 1, 2)\n",
    "ax2.tick_params(left=False, labelleft=False)\n",
    "ax2.plot(t, [a[0][1] for a in x_enc], linestyle='-', color=blue, linewidth=1.0)\n",
    "plt.xlabel('Time (s)')\n",
    "plt.ylabel(r'$c_{2}$')\n",
    "plt.xlim(0, simulation_time)\n",
    "fig.supylabel(r'$\\mathsf{Enc}(x_{1})$', fontsize=10)\n",
    "# plt.savefig('./fig/enc_sf_x_1.eps', bbox_inches='tight', pad_inches=0.05, transparent=True)\n",
    "\n",
    "fig = plt.figure()\n",
    "ax1 = fig.add_subplot(2, 1, 1)\n",
    "ax1.tick_params(left=False, labelbottom=False, labelleft=False)\n",
    "ax1.plot(t, [a[1][0] for a in x_enc], linestyle='-', color=blue, linewidth=1.0)\n",
    "plt.ylabel(r'$c_{1}$')\n",
    "plt.xlim(0, simulation_time)\n",
    "ax2 = fig.add_subplot(2, 1, 2)\n",
    "ax2.tick_params(left=False, labelleft=False)\n",
    "ax2.plot(t, [a[1][1] for a in x_enc], linestyle='-', color=blue, linewidth=1.0)\n",
    "plt.xlabel('Time (s)')\n",
    "plt.ylabel(r'$c_{2}$')\n",
    "plt.xlim(0, simulation_time)\n",
    "fig.supylabel(r'$\\mathsf{Enc}(x_{2})$', fontsize=10)\n",
    "# plt.savefig('./fig/enc_sf_x_2.eps', bbox_inches='tight', pad_inches=0.05, transparent=True)\n",
    "\n",
    "plt.show()"
   ]
  }
 ],
 "metadata": {
  "interpreter": {
   "hash": "497b7ed7a0cb873aadba58ed60e096fc01a3b860d9661c0cdbc6ca783a8c3dcb"
  },
  "kernelspec": {
   "display_name": "Python 3.9.6 ('VARX_OLS-sCSNinRR')",
   "language": "python",
   "name": "python3"
  },
  "language_info": {
   "codemirror_mode": {
    "name": "ipython",
    "version": 3
   },
   "file_extension": ".py",
   "mimetype": "text/x-python",
   "name": "python",
   "nbconvert_exporter": "python",
   "pygments_lexer": "ipython3",
   "version": "3.9.12"
  },
  "orig_nbformat": 4
 },
 "nbformat": 4,
 "nbformat_minor": 2
}
